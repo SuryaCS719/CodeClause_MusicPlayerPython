{
 "cells": [
  {
   "cell_type": "code",
   "execution_count": 1,
   "metadata": {},
   "outputs": [
    {
     "name": "stdout",
     "output_type": "stream",
     "text": [
      "Requirement already satisfied: pygame in /opt/anaconda3/lib/python3.8/site-packages (2.5.0)\n",
      "Note: you may need to restart the kernel to use updated packages.\n"
     ]
    }
   ],
   "source": [
    "pip install pygame"
   ]
  },
  {
   "cell_type": "code",
   "execution_count": 1,
   "metadata": {},
   "outputs": [
    {
     "name": "stdout",
     "output_type": "stream",
     "text": [
      "pygame 2.5.0 (SDL 2.28.0, Python 3.8.5)\n",
      "Hello from the pygame community. https://www.pygame.org/contribute.html\n"
     ]
    }
   ],
   "source": [
    "import pygame\n",
    "\n",
    "# Initialize Pygame\n",
    "pygame.init()\n",
    "\n",
    "# Create a Pygame window\n",
    "window_width, window_height = 400, 300\n",
    "window = pygame.display.set_mode((window_width, window_height))\n",
    "pygame.display.set_caption(\"Music Player\")\n",
    "\n",
    "# Load a music file\n",
    "pygame.mixer.music.load(\"/Users/surya/Downloads/file_example_MP3_1MG.mp3\")\n",
    "\n",
    "# Load a logo image\n",
    "logo = pygame.image.load(\"/Users/surya/Downloads/pngwing.com.png\")\n",
    "logo = pygame.transform.scale(logo, (100, 100))\n",
    "\n",
    "\n",
    "# Define colors\n",
    "white = (255, 255, 255)\n",
    "black = (0, 0, 0)\n",
    "\n",
    "# Define fonts\n",
    "font_small = pygame.font.SysFont(None, 24)\n",
    "font_large = pygame.font.SysFont(None, 36)\n",
    "\n",
    "# Function to play music\n",
    "def play_music():\n",
    "    pygame.mixer.music.play()\n",
    "\n",
    "# Function to pause music\n",
    "def pause_music():\n",
    "    pygame.mixer.music.pause()\n",
    "\n",
    "# Function to resume music\n",
    "def resume_music():\n",
    "    pygame.mixer.music.unpause()\n",
    "\n",
    "# Function to stop music\n",
    "def stop_music():\n",
    "    pygame.mixer.music.stop()\n",
    "\n",
    "# Main loop\n",
    "running = True\n",
    "while running:\n",
    "    for event in pygame.event.get():\n",
    "        if event.type == pygame.QUIT:\n",
    "            running = False\n",
    "\n",
    "    keys = pygame.key.get_pressed()\n",
    "    if keys[pygame.K_p]:\n",
    "        play_music()\n",
    "    elif keys[pygame.K_s]:\n",
    "        stop_music()\n",
    "    elif keys[pygame.K_r]:\n",
    "        resume_music()\n",
    "    elif keys[pygame.K_c]:\n",
    "        pause_music()\n",
    "\n",
    "    # Fill the window with white color\n",
    "    window.fill(white)\n",
    "\n",
    "    # Display the logo\n",
    "    window.blit(logo, (window_width // 2 - 50, 50))\n",
    "\n",
    "    # Display control information\n",
    "    text_play = font_small.render(\"Press 'P' to Play\", True, black)\n",
    "    text_pause = font_small.render(\"Press 'C' to Pause\", True, black)\n",
    "    text_resume = font_small.render(\"Press 'R' to Resume\", True, black)\n",
    "    text_stop = font_small.render(\"Press 'S' to Stop\", True, black)\n",
    "    window.blit(text_play, (window_width // 2 - 70, 180))\n",
    "    window.blit(text_pause, (window_width // 2 - 80, 210))\n",
    "    window.blit(text_resume, (window_width // 2 - 90, 240))\n",
    "    window.blit(text_stop, (window_width // 2 - 70, 270))\n",
    "\n",
    "    pygame.display.update()\n",
    "\n",
    "# Quit Pygame\n",
    "pygame.quit()"
   ]
  },
  {
   "cell_type": "code",
   "execution_count": null,
   "metadata": {},
   "outputs": [],
   "source": []
  }
 ],
 "metadata": {
  "kernelspec": {
   "display_name": "Python 3",
   "language": "python",
   "name": "python3"
  },
  "language_info": {
   "codemirror_mode": {
    "name": "ipython",
    "version": 3
   },
   "file_extension": ".py",
   "mimetype": "text/x-python",
   "name": "python",
   "nbconvert_exporter": "python",
   "pygments_lexer": "ipython3",
   "version": "3.8.5"
  }
 },
 "nbformat": 4,
 "nbformat_minor": 4
}
